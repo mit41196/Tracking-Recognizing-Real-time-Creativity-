{
  "nbformat": 4,
  "nbformat_minor": 0,
  "metadata": {
    "colab": {
      "name": "Train_Models.ipynb",
      "version": "0.3.2",
      "provenance": [],
      "collapsed_sections": []
    },
    "kernelspec": {
      "name": "python3",
      "display_name": "Python 3"
    }
  },
  "cells": [
    {
      "metadata": {
        "id": "QQ9yLc0oru-F",
        "colab_type": "code",
        "colab": {}
      },
      "cell_type": "code",
      "source": [
        "from google.colab import drive\n",
        "drive.mount('/content/drive')"
      ],
      "execution_count": 0,
      "outputs": []
    },
    {
      "metadata": {
        "id": "3ZaFC7u7Fjjo",
        "colab_type": "code",
        "colab": {}
      },
      "cell_type": "code",
      "source": [
        "# Reference: https://github.com/ck090/Google_Quick_Draw"
      ],
      "execution_count": 0,
      "outputs": []
    },
    {
      "metadata": {
        "id": "m1n6hPQ_r2gf",
        "colab_type": "code",
        "colab": {}
      },
      "cell_type": "code",
      "source": [
        "import keras\n",
        "from keras.models import Sequential\n",
        "from keras.layers import Dense, Dropout, Flatten\n",
        "from keras.layers.convolutional import Conv2D, MaxPooling2D\n",
        "from keras.utils import np_utils\n",
        "from keras import backend as K\n",
        "K.set_image_dim_ordering('th')\n",
        "\n",
        "import numpy as np\n",
        "import pandas as pd\n",
        "from sklearn.model_selection import train_test_split, GridSearchCV\n",
        "from sklearn.metrics import accuracy_score, confusion_matrix, roc_curve, roc_auc_score\n",
        "from sklearn.svm import SVC, LinearSVC\n",
        "from sklearn.linear_model import SGDClassifier\n",
        "from sklearn.neural_network import MLPClassifier\n"
      ],
      "execution_count": 0,
      "outputs": []
    },
    {
      "metadata": {
        "id": "h78pCMGssMqu",
        "colab_type": "code",
        "colab": {}
      },
      "cell_type": "code",
      "source": [
        "def cnn_model():\n",
        "\n",
        "    model = Sequential()\n",
        "    model.add(Conv2D(30, (5, 5), input_shape=(1, 28, 28), activation='relu'))\n",
        "    model.add(MaxPooling2D(pool_size=(2, 2)))\n",
        "    model.add(Conv2D(15, (3, 3), activation='relu'))\n",
        "    model.add(MaxPooling2D(pool_size=(2, 2)))\n",
        "    model.add(Dropout(0.2))\n",
        "    model.add(Flatten())\n",
        "    model.add(Dense(128, activation='relu'))\n",
        "    model.add(Dense(50, activation='relu'))\n",
        "    model.add(Dense(num_classes, activation='softmax'))\n",
        "  \n",
        "    model.compile(loss='categorical_crossentropy', optimizer='adam', metrics=['accuracy'])\n",
        "    return model"
      ],
      "execution_count": 0,
      "outputs": []
    },
    {
      "metadata": {
        "id": "xkaRazZSrar2",
        "colab_type": "code",
        "colab": {}
      },
      "cell_type": "code",
      "source": [
        "def convert_categorical(labels):\n",
        "  \n",
        "  categorical_data  = np_utils.to_categorical(labels)\n",
        "  return categorical_data"
      ],
      "execution_count": 0,
      "outputs": []
    },
    {
      "metadata": {
        "id": "B1LcurG-sZKO",
        "colab_type": "code",
        "colab": {}
      },
      "cell_type": "code",
      "source": [
        "apple = np.load(\"drive/My Drive/CV_Project/Dataset_Quick_Draw/apple.npy\")\n",
        "cup = np.load(\"drive/My Drive/CV_Project/Dataset_Quick_Draw/cup.npy\")\n",
        "laptop = np.load(\"drive/My Drive/CV_Project/Dataset_Quick_Draw/laptop.npy\")\n",
        "leaf = np.load(\"drive/My Drive/CV_Project/Dataset_Quick_Draw/leaf.npy\")\n",
        "penguin = np.load(\"drive/My Drive/CV_Project/Dataset_Quick_Draw/penguin.npy\")\n",
        "pizza = np.load(\"drive/My Drive/CV_Project/Dataset_Quick_Draw/pizza.npy\")\n",
        "The_Eiffel_Tower = np.load(\"drive/My Drive/CV_Project/Dataset_Quick_Draw/The Eiffel Tower.npy\")\n",
        "triangle = np.load(\"drive/My Drive/CV_Project/Dataset_Quick_Draw/triangle.npy\")\n",
        "wine_bottle = np.load(\"drive/My Drive/CV_Project/Dataset_Quick_Draw/wine bottle.npy\")\n",
        "shoe = np.load(\"drive/My Drive/CV_Project/Dataset_Quick_Draw/shoe.npy\")\n"
      ],
      "execution_count": 0,
      "outputs": []
    },
    {
      "metadata": {
        "id": "FxPiQ164sxhf",
        "colab_type": "code",
        "colab": {}
      },
      "cell_type": "code",
      "source": [
        "The_Eiffel_Tower = np.c_[The_Eiffel_Tower, np.zeros(len(The_Eiffel_Tower))]"
      ],
      "execution_count": 0,
      "outputs": []
    },
    {
      "metadata": {
        "id": "mBUmyn1jtckp",
        "colab_type": "code",
        "colab": {}
      },
      "cell_type": "code",
      "source": [
        "apple = np.c_[apple, np.ones(len(apple))]"
      ],
      "execution_count": 0,
      "outputs": []
    },
    {
      "metadata": {
        "id": "kbbJrxvstlM-",
        "colab_type": "code",
        "colab": {}
      },
      "cell_type": "code",
      "source": [
        "cup = np.c_[cup, 2*np.ones(len(cup))]\n",
        "laptop = np.c_[laptop, 3*np.ones(len(laptop))]\n",
        "leaf = np.c_[leaf, 4*np.ones(len(leaf))]\n",
        "penguin = np.c_[penguin, 5*np.ones(len(penguin))]"
      ],
      "execution_count": 0,
      "outputs": []
    },
    {
      "metadata": {
        "id": "dGUi6_Ftt38d",
        "colab_type": "code",
        "colab": {}
      },
      "cell_type": "code",
      "source": [
        "pizza = np.c_[pizza, 6*np.ones(len(pizza))]\n",
        "triangle = np.c_[triangle, 7*np.ones(len(triangle))]\n",
        "shoe = np.c_[shoe, 8*np.ones(len(shoe))]\n",
        "wine_bottle = np.c_[wine_bottle, 9*np.ones(len(wine_bottle))]"
      ],
      "execution_count": 0,
      "outputs": []
    },
    {
      "metadata": {
        "id": "GNK1dyJquYAa",
        "colab_type": "code",
        "colab": {}
      },
      "cell_type": "code",
      "source": [
        "label_dict = {0:'The Eiffel Tower', 1:'Apple', 2:'Cup', 3:'Laptop', 4:'Leaf', 5:'Penguin', 6:'Pizza', 7:'Triangle', 8:'Shoe', 9:'Wine Bottle'}"
      ],
      "execution_count": 0,
      "outputs": []
    },
    {
      "metadata": {
        "id": "yXBtxfS7urol",
        "colab_type": "code",
        "colab": {}
      },
      "cell_type": "code",
      "source": [
        "X = np.concatenate((The_Eiffel_Tower[:15000,:-1], apple[:15000,:-1], cup[:15000,:-1], laptop[:15000,:-1], leaf[:15000,:-1], penguin[:15000,:-1], pizza[:15000,:-1], triangle[:15000,:-1], shoe[:15000,:-1], wine_bottle[:15000,:-1]), axis=0).astype('float32')\n",
        "y = np.concatenate((The_Eiffel_Tower[:15000,-1], apple[:15000,-1], cup[:15000,-1], laptop[:15000,-1], leaf[:15000,-1], penguin[:15000,-1], pizza[:15000,-1], triangle[:15000,-1], shoe[:15000,-1], wine_bottle[:15000,-1]), axis=0).astype('float32')\n",
        "\n",
        "X_train, X_test, y_train, y_test = train_test_split(X/255.,y,test_size=0.4,random_state=0)"
      ],
      "execution_count": 0,
      "outputs": []
    },
    {
      "metadata": {
        "id": "AS1Yqtgaviv8",
        "colab_type": "code",
        "colab": {}
      },
      "cell_type": "code",
      "source": [
        "y_train_categorical = convert_categorical(y_train)\n",
        "y_test_categorical = convert_categorical(y_test)\n",
        "num_classes = y_test_categorical.shape[1]"
      ],
      "execution_count": 0,
      "outputs": []
    },
    {
      "metadata": {
        "id": "scrqV8t-ZCkR",
        "colab_type": "code",
        "colab": {}
      },
      "cell_type": "code",
      "source": [
        "import gc\n",
        "gc.collect()"
      ],
      "execution_count": 0,
      "outputs": []
    },
    {
      "metadata": {
        "id": "EhZAKouAvl_e",
        "colab_type": "code",
        "colab": {}
      },
      "cell_type": "code",
      "source": [
        "X_train_input = X_train.reshape(X_train.shape[0], 1, 28, 28).astype(np.float32)\n",
        "X_test_input = X_test.reshape(X_test.shape[0], 1, 28, 28).astype(np.float32)"
      ],
      "execution_count": 0,
      "outputs": []
    },
    {
      "metadata": {
        "colab_type": "code",
        "id": "YOH7Y33ZrBuL",
        "colab": {}
      },
      "cell_type": "code",
      "source": [
        "model = cnn_model()\n",
        "records = model.fit(X_train_input, y_train_categorical, validation_split=0.3, epochs=10, batch_size=200)\n",
        "scores = model.evaluate(X_test_input, y_test_categorical, verbose=0)\n",
        "print('Final CNN accuracy: ', scores[1])"
      ],
      "execution_count": 0,
      "outputs": []
    },
    {
      "metadata": {
        "id": "1qmqJXA3jDNp",
        "colab_type": "code",
        "colab": {}
      },
      "cell_type": "code",
      "source": [
        "records.history.keys()\n",
        "plt.plot(records.history['acc'])\n",
        "plt.plot(records.history['val_acc'])\n",
        "plt.title('Model Accuracy')\n",
        "plt.ylabel('Accuracy')\n",
        "plt.xlabel('Epoch')\n",
        "plt.legend(['train', 'test'], loc='upper right')\n",
        "plt.show()\n",
        "\n",
        "plt.plot(records.history['loss'])\n",
        "plt.plot(records.history['val_loss'])\n",
        "plt.title('Model Loss')\n",
        "plt.ylabel('Loss')\n",
        "plt.xlabel('Epoch')\n",
        "plt.legend(['train', 'test'], loc='upper right')\n",
        "plt.show()"
      ],
      "execution_count": 0,
      "outputs": []
    },
    {
      "metadata": {
        "id": "ktjwk1SFvxLk",
        "colab_type": "code",
        "colab": {}
      },
      "cell_type": "code",
      "source": [
        "y_pred_cnn = model.predict_classes(X_test_input, batch_size=32, verbose=0)\n",
        "acc_cnn = accuracy_score(y_test, y_pred_categorical)\n",
        "print ('CNN accuracy: ',acc_cnn)"
      ],
      "execution_count": 0,
      "outputs": []
    },
    {
      "metadata": {
        "id": "rd5JpCqMx8XT",
        "colab_type": "code",
        "colab": {}
      },
      "cell_type": "code",
      "source": [
        "plt.imshow(X_test[12].reshape(28,28), cmap='gray')\n",
        "print(y_pred_categorical[12])"
      ],
      "execution_count": 0,
      "outputs": []
    },
    {
      "metadata": {
        "id": "10DEu0lzxUNS",
        "colab_type": "code",
        "colab": {}
      },
      "cell_type": "code",
      "source": [
        "# store weights to H5\n",
        "model.save_weights(\"model.h5\")"
      ],
      "execution_count": 0,
      "outputs": []
    },
    {
      "metadata": {
        "id": "qvY48SPlxYbu",
        "colab_type": "code",
        "colab": {}
      },
      "cell_type": "code",
      "source": [
        "import keras\n",
        "print(keras.__version__)"
      ],
      "execution_count": 0,
      "outputs": []
    },
    {
      "metadata": {
        "id": "ci3GSMsSAgnA",
        "colab_type": "code",
        "colab": {}
      },
      "cell_type": "code",
      "source": [
        "import cv2\n",
        "x = cv2.imread(\"object1sss.png\",0)\n",
        "x = cv2.resize(x, (28,28))\n",
        "y = cv2.imread(\"objectss.png\", 0)\n",
        "y = cv2.resize(y, (28,28))\n",
        "t = y.reshape(1,1,28,28)\n",
        "model.predict_classes(t)"
      ],
      "execution_count": 0,
      "outputs": []
    },
    {
      "metadata": {
        "id": "XJcoKXiNCbmt",
        "colab_type": "code",
        "colab": {}
      },
      "cell_type": "code",
      "source": [
        "from keras.models import load_model\n",
        "\n",
        "model.save('model.h5')\n",
        "del model\n",
        "model = load_model('model.h5')"
      ],
      "execution_count": 0,
      "outputs": []
    },
    {
      "metadata": {
        "id": "sqXo-25YO942",
        "colab_type": "code",
        "colab": {}
      },
      "cell_type": "code",
      "source": [
        "model.summary()"
      ],
      "execution_count": 0,
      "outputs": []
    },
    {
      "metadata": {
        "id": "wvoES6h9ppvf",
        "colab_type": "code",
        "colab": {}
      },
      "cell_type": "code",
      "source": [
        "from sklearn.naive_bayes import GaussianNB\n",
        "clf_nb = GaussianNB()"
      ],
      "execution_count": 0,
      "outputs": []
    },
    {
      "metadata": {
        "id": "EDtBPKhxsLyR",
        "colab_type": "code",
        "colab": {}
      },
      "cell_type": "code",
      "source": [
        "from sklearn.ensemble import RandomForestClassifier\n",
        "clf_rf = RandomForestClassifier(n_estimators=100, max_depth=50,random_state=0)"
      ],
      "execution_count": 0,
      "outputs": []
    },
    {
      "metadata": {
        "id": "v_DdlB1csOG4",
        "colab_type": "code",
        "colab": {}
      },
      "cell_type": "code",
      "source": [
        "from xgboost import XGBClassifier\n",
        "clf_xb = XGBClassifier(learning_rate=0.1, n_estimators=150, max_depth=8,min_child_weight=3, gamma=0.2, subsample=0.6, colsample_bytree=1.0,objective='binary:logistic', nthread=4, scale_pos_weight=1, seed=27)"
      ],
      "execution_count": 0,
      "outputs": []
    },
    {
      "metadata": {
        "id": "C97Gr2UisQJR",
        "colab_type": "code",
        "colab": {}
      },
      "cell_type": "code",
      "source": [
        "mod_nb=clf_nb.fit(X_train, y_train)\n",
        "predictedn=clf_nb.predict(X_test)\n",
        "acc=accuracy_score(y_test,predictedn)\n",
        "print(\"Gaussian Naive Bayes\",acc)"
      ],
      "execution_count": 0,
      "outputs": []
    },
    {
      "metadata": {
        "id": "ZSwy0JkqsTOL",
        "colab_type": "code",
        "colab": {}
      },
      "cell_type": "code",
      "source": [
        "mod_rf=clf_rf.fit(X_train, y_train)\n",
        "predictedr=clf_rf.predict(X_test)\n",
        "acc1=accuracy_score(y_test,predictedr)\n",
        "print(\"Random Forest\",acc1)"
      ],
      "execution_count": 0,
      "outputs": []
    },
    {
      "metadata": {
        "id": "_SBUwMfWsYOH",
        "colab_type": "code",
        "colab": {}
      },
      "cell_type": "code",
      "source": [
        "mod_xb=clf_xb.fit(X_train, y_train)\n",
        "predictedx=clf_xb.predict(X_test)\n",
        "acc2=accuracy_score(y_test,predictedx)\n",
        "print(\"xgboost\",acc2)"
      ],
      "execution_count": 0,
      "outputs": []
    },
    {
      "metadata": {
        "id": "oq4TS3ruscOt",
        "colab_type": "code",
        "colab": {}
      },
      "cell_type": "code",
      "source": [
        "import matplotlib.pyplot as py\n",
        "from sklearn import metrics\n",
        "fpr_cnn, tpr_cnn,t= metrics.roc_curve(y_test, y_pred_categorical, pos_label=int(9))\n",
        "fpr_rf, tpr_rf,t= metrics.roc_curve(y_test, predictedr, pos_label=int(9))\n",
        "fpr_nb, tpr_nb,t= metrics.roc_curve(y_test,predictedn, pos_label=int(9))\n",
        "fpr_xb, tpr_xb,t= metrics.roc_curve(y_test,predictedx, pos_label=int(9))\n",
        "py.xlabel(\"False Positive Rate\")\n",
        "py.ylabel(\"True Positive Rate\")\n",
        "py.title(\"ROC Curve \")\n",
        "\n",
        "py.plot(fpr_cnn,tpr_cnn,label='CNN')\n",
        "\n",
        "py.plot(fpr_xb,tpr_xb,label='XG_Boost')\n",
        "py.plot(fpr_rf,tpr_rf,label='Random Forest')\n",
        "py.plot(fpr_nb,tpr_nb,label='Gaussian Naive Bayes')\n",
        "\n",
        "py.legend()"
      ],
      "execution_count": 0,
      "outputs": []
    }
  ]
}